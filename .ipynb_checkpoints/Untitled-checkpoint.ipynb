{
 "cells": [
  {
   "cell_type": "code",
   "execution_count": 1,
   "id": "dd0d0382",
   "metadata": {},
   "outputs": [
    {
     "ename": "ModuleNotFoundError",
     "evalue": "No module named 'packages_needed'",
     "output_type": "error",
     "traceback": [
      "\u001b[1;31m---------------------------------------------------------------------------\u001b[0m",
      "\u001b[1;31mModuleNotFoundError\u001b[0m                       Traceback (most recent call last)",
      "Input \u001b[1;32mIn [1]\u001b[0m, in \u001b[0;36m<cell line: 1>\u001b[1;34m()\u001b[0m\n\u001b[1;32m----> 1\u001b[0m \u001b[38;5;28;01mfrom\u001b[39;00m \u001b[38;5;21;01mpackages_needed\u001b[39;00m \u001b[38;5;28;01mimport\u001b[39;00m \u001b[38;5;241m*\u001b[39m\n\u001b[0;32m      2\u001b[0m \u001b[38;5;28;01mimport\u001b[39;00m \u001b[38;5;21;01merror_metrics\u001b[39;00m \u001b[38;5;28;01mas\u001b[39;00m \u001b[38;5;21;01mem\u001b[39;00m \n\u001b[0;32m      3\u001b[0m \u001b[38;5;28;01mfrom\u001b[39;00m \u001b[38;5;21;01mpackages_needed\u001b[39;00m \u001b[38;5;28;01mimport\u001b[39;00m \u001b[38;5;241m*\u001b[39m\n",
      "\u001b[1;31mModuleNotFoundError\u001b[0m: No module named 'packages_needed'"
     ]
    }
   ],
   "source": [
    "from packages_needed import *\n",
    "import error_metrics as em \n",
    "from packages_needed import *\n",
    "import Netrem_model_builder as nm\n",
    "import DemoDataBuilderXandY as demo\n",
    "import PriorGraphNetwork as graph\n",
    "import netrem_evaluation_functions as nm_eval\n",
    "import essential_functions as ef\n",
    "\n",
    "dummy_data = demo.generate_dummy_data(corrVals = [0.9, 0.5, 0.1, -0.2, -0.8, -0.3],\n",
    "                   num_samples_M = 100,\n",
    "                   train_data_percent = 70)\n",
    "\n",
    "X_df = dummy_data.X_df\n",
    "X_df.head()\n",
    "\n",
    "y_df = dummy_data.y_df\n",
    "y_df.head()\n",
    "\n",
    "# 70 samples for training data (used to train and fit GRegulNet model)\n",
    "X_train = dummy_data.view_X_train_df()\n",
    "y_train = dummy_data.view_y_train_df()\n",
    "\n",
    "# 30 samples for testing data\n",
    "X_test = dummy_data.view_X_test_df()\n",
    "y_test = dummy_data.view_y_test_df()\n",
    "\n",
    "# prior network edge_list:\n",
    "edge_list = [[\"TF1\", \"TF2\", 0.9], [\"TF4\", \"TF5\", 0.75], [\"TF1\", \"TF3\"], [\"TF1\", \"TF4\"], [\"TF1\", \"TF5\"], \n",
    "              [\"TF2\", \"TF3\"], [\"TF2\", \"TF4\"], [\"TF2\", \"TF5\"], [\"TF3\", \"TF4\"], [\"TF3\", \"TF5\"]]\n",
    "\n",
    "beta_network_val = 3 \n",
    "# by default, cv_for_alpha is False, so alpha_lasso_val will be specified for the alpha_lasso parameter.\n",
    "alpha_lasso_val = 0.01\n",
    "\n",
    "# Building the network regularized regression model: \n",
    "# Please note: To include nodes found in the gene expression data that are not found in the PPI Network (e.g. TF6 in our case), we use False for the overlapped_nodes_only argument (otherwise, we would only use TFs 1 to 5):\n",
    "netrem_demo = nm.netrem(edge_list = edge_list, \n",
    "                        beta_net = beta_network_val,\n",
    "                        alpha_lasso = alpha_lasso_val,\n",
    "                        overlapped_nodes_only = False, # so we include TF6\n",
    "                        view_network = True)\n",
    "\n",
    "# Fitting the gregulnet model on training data: X_train and y_train:\n",
    "netrem_demo.fit(X_train, y_train)\n",
    "\n",
    "pred_y_test = netrem_demo.predict(X_test) # predicted values for y_test\n",
    "mse_test = netrem_demo.test_mse(X_test, y_test)\n",
    "print(f\"Please note that the testing Mean Square Error (MSE) is {mse_test}\")\n",
    "\n",
    "# To view and extract the predicted model coefficients for the predictors: \n",
    "netrem_demo.model_coef_df\n",
    "\n",
    "netrem_demo.B_interaction_df\n"
   ]
  },
  {
   "cell_type": "code",
   "execution_count": null,
   "id": "214e577b",
   "metadata": {},
   "outputs": [],
   "source": []
  }
 ],
 "metadata": {
  "kernelspec": {
   "display_name": "Python 3 (ipykernel)",
   "language": "python",
   "name": "python3"
  },
  "language_info": {
   "codemirror_mode": {
    "name": "ipython",
    "version": 3
   },
   "file_extension": ".py",
   "mimetype": "text/x-python",
   "name": "python",
   "nbconvert_exporter": "python",
   "pygments_lexer": "ipython3",
   "version": "3.10.6"
  }
 },
 "nbformat": 4,
 "nbformat_minor": 5
}
